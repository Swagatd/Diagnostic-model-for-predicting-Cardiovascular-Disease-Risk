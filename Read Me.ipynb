{
 "cells": [
  {
   "cell_type": "markdown",
   "metadata": {},
   "source": [
    "# Diagnostic model for predicting Cardiovascular Disease Risk\n",
    "By: Sparkle Russell-Puleri, Ph.D.\n",
    "\n",
    "# Project Goal:\n",
    "The objective of this project is to develop computational algorithm that can accurately detect cardiovascular related diseases. The dataset used in this project was obtained from the publically available UCI repository heart disease dataset. This dataset has been considered the benchmark dataset in the computational cardiovascular space. The features used in the development of this model are considered medically relevant attributes(Age,sex,cp,rest bps,chol,fbs,restecg,thalach,exang,oldpeak,slope,ca,thal,class) as they significantly contribute to the progression of cardiovascular disease.\n",
    "\n",
    "# Heart Disease  \n",
    "Endothelial Cells (ECs) lining the walls of blood vessels are referred to as the “governing intelligence” of vascular health$^1$. However, prolonged use of alcohol, cigarettes, lack of exercise, increased stress levels and genetic factors causes inflammation which damages the EC layer, thus preventing them from performing their normal functions. Continuous damage to the EC layer has been implicated in vascular diseases such as atherosclerosis (**see video below**). Atherosclerosis is responsible for more than 80% of all cardiovascular disease related deaths. Atherosclerosis can affect  any artery in the body including but not limited to the heart, leg, kidney, brain and pelvis. This means that based on the artery that is affected athersclerosis can lead cardiovascular realated diseases such as coronary artery disease,carotid artery disease,peripheral artery disease and chronic kidney disease.\n",
    "\n",
    "Atherosclerosis and associated cardiovascular diseases are the leading causes of death in the developed world (accounting for one in three of all deaths), and developing world $^2$. Atherosclerosis is an inflammatory disease that affects blood vessel walls of the arterial tree $^3$, through a cascade of events that involves lipid infiltration and accumulation in blood vessel walls. As these fatty lesions enlarge and calcify, they cause the arterial lumens to narrow or to become vulnerable to rupture and occlusion. The initiating event in atherosclerosis is injury to the blood vessel wall, resulting in endothelial dysfunction$^4$. This disruption of the normal homeostatic regulatory functions of the endothelium initiates a sequence of events that are key features of atherosclerosis. These events include: increased permeability, reduced endothelium-mediated vasodilation, enhanced endothelial cell turnover, increased expression of adhesion molecules and other inflammatory genes of ECs, and vascular smooth muscle cells proliferation, finally leading to plaque formation, plaque rupture, thrombosis, and tissue infarction. While the exact causes of arthrosclerosis are unknown; endothelial dysfunction seems to be the initiating event, and is associated with many systemic risk factors including low HDL, hypertension, high LDL, and diabetes, among others.\n",
    "\n",
    "# Gaps\n",
    "While the use of pharmacuetical \"drugable targets,\" such protein enzymes, receptors, or channels agents have led to a significant improvement in health outcomes of patients with atherosclerosis. Myron L. Weisfeldt et.al (2007)$^5$,suggested that unlike treaments developed for infectious diseases they offer no immediate cure as they require longerm use. Thefore, the question remains: Can Big Data analytics or other computational intelligence techniques be utilized for  early dectection of heart disease?"
   ]
  },
  {
   "cell_type": "code",
   "execution_count": 8,
   "metadata": {
    "collapsed": false,
    "scrolled": false
   },
   "outputs": [
    {
     "data": {
      "text/html": [
       "<iframe width=\"560\" height=\"315\" src=\"https://www.youtube.com/embed/ecuCECYhw_M?rel=0&amp;controls=0&amp;showinfo=0\" frameborder=\"0\" allowfullscreen></iframe>"
      ],
      "text/plain": [
       "<IPython.core.display.HTML object>"
      ]
     },
     "execution_count": 8,
     "metadata": {},
     "output_type": "execute_result"
    }
   ],
   "source": [
    "# Reference: National Heart, Lung and Blood Institue: https://www.nhlbi.nih.gov/health/health-topics/topics/atherosclerosis\n",
    "from IPython.display import HTML\n",
    "HTML('<iframe width=\"560\" height=\"315\" src=\"https://www.youtube.com/embed/ecuCECYhw_M?rel=0&amp;controls=0&amp;showinfo=0\" frameborder=\"0\" allowfullscreen></iframe>')"
   ]
  },
  {
   "cell_type": "markdown",
   "metadata": {},
   "source": [
    "# The Dataset:\n",
    "This data was obtained from Cleveland Clinic Foundation (obtained from the UCI machine learning repository). The purpose of this project is to develop a model that predicts the presence or absence of heart disease in a patient. While the databases have 76\n",
    "raw attributes, only 14 of them are actually used. They include:\n",
    "\n",
    "**Detailed Attribute Information:**\n",
    "<dd>1.**Age**: Age in years     \n",
    "<dd>2.**Sex**: 1 = male; 0 = female        \n",
    "    3.**cp**: Chest pain type   \n",
    "        -- Value 1: typical angina  \n",
    "        -- Value 2: atypical angina   \n",
    "        -- Value 3: non-anginal pain   \n",
    "        -- Value 4: asymptomatic        \n",
    "4.**trestbps**: Resting blood pressure (in mm Hg on admission to the hospital)   \n",
    "5.**chol**: Serum cholestoral in mg/dl      \n",
    "6.**fbs**: Fasting blood sugar > 120 mg/dl(1 = true; 0 = false)        \n",
    "7.**restecg**:Resting electrocardiographic results \n",
    "        -- Value 0: normal  \n",
    "        -- Value 1: having ST-T wave abnormality (T wave inversions and/or ST elevation or depression of > 0.05mV  \n",
    "        -- Value 2: showing probable or definite left ventricular hypertrophy by Estes' criteria    \n",
    "8.**thalach**: Maximum heart rate achieved     \n",
    "9.**exang**: Exercise induced angina (1 = yes; 0 = no)     \n",
    "10.**oldpeak**: ST depression induced by exercise relative to rest     \n",
    "11.**slope**: Slope of the peak exercise ST segment   \n",
    "        -- Value 1: upsloping   \n",
    "        -- Value 2: flat  \n",
    "        -- Value 3: downsloping        \n",
    "12.**ca**: Number of major vessels (0-3) colored by flourosopy        \n",
    "13.**thal**: The status of the heart; 3 = normal; 6 = fixed defect; 7 = reversable defect         \n",
    "14.**num(the predicted attribute)**: diagnosis of heart disease (angiographic disease status)  \n",
    "        -- Value 0: < 50% diameter narrowing  \n",
    "        -- Value 1: > 50% diameter narrowing  \n",
    "        (in any major vessel: attributes 59 through 68 are vessels)"
   ]
  },
  {
   "cell_type": "markdown",
   "metadata": {},
   "source": [
    "# References:\n",
    "<dd>1.http://www.everistgenomics.com/content/angiodefender/overview.htm\n",
    "<dd>2.Malek AM, AlperSL,IzumoS. Hemodynamic shear stress and its role in <dd>atherosclerosis. JAMA;282:2035 42,1999</dd>\n",
    "<dd>3. Spaet, T.H. and Editor, Progress in Hemostasis and Thrombosis, Vol. <dd>7.. 364 pp,1984.</dd>\n",
    "<dd>4. Curtiss LK, Tobias PS. Emerging role of Toll-like receptors in</dd> <dd>atherosclerosis. J Lipid Res; 50(suppl):S340 –S345,2009.</dd>\n",
    "<dd>5. Weisfeldt,M.L.,Susan J. Zieman;Health Aff January 2007 vol. 26 no.</dd> <dd>1 25-37</dd>\n"
   ]
  },
  {
   "cell_type": "code",
   "execution_count": null,
   "metadata": {
    "collapsed": true
   },
   "outputs": [],
   "source": []
  }
 ],
 "metadata": {
  "kernelspec": {
   "display_name": "Python 3",
   "language": "python",
   "name": "python3"
  },
  "language_info": {
   "codemirror_mode": {
    "name": "ipython",
    "version": 3
   },
   "file_extension": ".py",
   "mimetype": "text/x-python",
   "name": "python",
   "nbconvert_exporter": "python",
   "pygments_lexer": "ipython3",
   "version": "3.6.0"
  }
 },
 "nbformat": 4,
 "nbformat_minor": 2
}
